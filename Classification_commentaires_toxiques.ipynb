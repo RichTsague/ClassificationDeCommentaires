{
  "cells": [
    {
      "cell_type": "markdown",
      "metadata": {
        "id": "_lyJzHuKRNWX"
      },
      "source": [
        "# Importation des packages"
      ]
    },
    {
      "cell_type": "code",
      "execution_count": 1,
      "metadata": {
        "id": "MUj96QiIQsJ_"
      },
      "outputs": [],
      "source": [
        "import numpy as np\n",
        "import pandas as pd\n",
        "import matplotlib.pyplot as plt\n",
        "import tensorflow as tf"
      ]
    },
    {
      "cell_type": "code",
      "execution_count": 2,
      "metadata": {
        "colab": {
          "base_uri": "https://localhost:8080/"
        },
        "id": "tZXyQ8S3x7S7",
        "outputId": "69810d57-f41b-4e8d-e8db-dcc9a0c6a709"
      },
      "outputs": [
        {
          "name": "stdout",
          "output_type": "stream",
          "text": [
            "Drive already mounted at /content/drive; to attempt to forcibly remount, call drive.mount(\"/content/drive\", force_remount=True).\n"
          ]
        }
      ],
      "source": [
        "from google.colab import drive\n",
        "drive.mount('/content/drive')"
      ]
    },
    {
      "cell_type": "markdown",
      "metadata": {
        "id": "xZLpUMItRWc0"
      },
      "source": [
        "# Importation des données"
      ]
    },
    {
      "cell_type": "markdown",
      "metadata": {
        "id": "cbE3MzVKRaV2"
      },
      "source": [
        "Ajoutez un raccourci de ce dossier à votre google drive :\n",
        "\n",
        "https://drive.google.com/drive/folders/1mx-CAzT10YKrmxHfYDP_1Oef7PVGUr7s?usp=sharing"
      ]
    },
    {
      "cell_type": "code",
      "execution_count": 3,
      "metadata": {
        "colab": {
          "base_uri": "https://localhost:8080/"
        },
        "id": "4FktfCVaRVrs",
        "outputId": "fe7a7655-bb01-4179-a217-79276ead4440"
      },
      "outputs": [
        {
          "name": "stdout",
          "output_type": "stream",
          "text": [
            "Mounted at /content/drive\n"
          ]
        }
      ],
      "source": [
        "from google.colab import drive\n",
        "drive.mount('/content/drive', force_remount=True)"
      ]
    },
    {
      "cell_type": "code",
      "execution_count": 4,
      "metadata": {
        "colab": {
          "base_uri": "https://localhost:8080/",
          "height": 293
        },
        "id": "qky64Lq8Rocy",
        "outputId": "502de199-f94c-44ed-e5d4-0bb1fdfbc2a4"
      },
      "outputs": [
        {
          "data": {
            "application/vnd.google.colaboratory.intrinsic+json": {
              "type": "dataframe",
              "variable_name": "data"
            },
            "text/html": [
              "\n",
              "  <div id=\"df-87e45253-a5a4-4588-9180-85d954eea237\" class=\"colab-df-container\">\n",
              "    <div>\n",
              "<style scoped>\n",
              "    .dataframe tbody tr th:only-of-type {\n",
              "        vertical-align: middle;\n",
              "    }\n",
              "\n",
              "    .dataframe tbody tr th {\n",
              "        vertical-align: top;\n",
              "    }\n",
              "\n",
              "    .dataframe thead th {\n",
              "        text-align: right;\n",
              "    }\n",
              "</style>\n",
              "<table border=\"1\" class=\"dataframe\">\n",
              "  <thead>\n",
              "    <tr style=\"text-align: right;\">\n",
              "      <th></th>\n",
              "      <th>id</th>\n",
              "      <th>comment_text</th>\n",
              "      <th>toxic</th>\n",
              "      <th>severe_toxic</th>\n",
              "      <th>obscene</th>\n",
              "      <th>threat</th>\n",
              "      <th>insult</th>\n",
              "      <th>identity_hate</th>\n",
              "    </tr>\n",
              "  </thead>\n",
              "  <tbody>\n",
              "    <tr>\n",
              "      <th>0</th>\n",
              "      <td>0000997932d777bf</td>\n",
              "      <td>Explanation\\nWhy the edits made under my usern...</td>\n",
              "      <td>0</td>\n",
              "      <td>0</td>\n",
              "      <td>0</td>\n",
              "      <td>0</td>\n",
              "      <td>0</td>\n",
              "      <td>0</td>\n",
              "    </tr>\n",
              "    <tr>\n",
              "      <th>1</th>\n",
              "      <td>000103f0d9cfb60f</td>\n",
              "      <td>D'aww! He matches this background colour I'm s...</td>\n",
              "      <td>0</td>\n",
              "      <td>0</td>\n",
              "      <td>0</td>\n",
              "      <td>0</td>\n",
              "      <td>0</td>\n",
              "      <td>0</td>\n",
              "    </tr>\n",
              "    <tr>\n",
              "      <th>2</th>\n",
              "      <td>000113f07ec002fd</td>\n",
              "      <td>Hey man, I'm really not trying to edit war. It...</td>\n",
              "      <td>0</td>\n",
              "      <td>0</td>\n",
              "      <td>0</td>\n",
              "      <td>0</td>\n",
              "      <td>0</td>\n",
              "      <td>0</td>\n",
              "    </tr>\n",
              "    <tr>\n",
              "      <th>3</th>\n",
              "      <td>0001b41b1c6bb37e</td>\n",
              "      <td>\"\\nMore\\nI can't make any real suggestions on ...</td>\n",
              "      <td>0</td>\n",
              "      <td>0</td>\n",
              "      <td>0</td>\n",
              "      <td>0</td>\n",
              "      <td>0</td>\n",
              "      <td>0</td>\n",
              "    </tr>\n",
              "    <tr>\n",
              "      <th>4</th>\n",
              "      <td>0001d958c54c6e35</td>\n",
              "      <td>You, sir, are my hero. Any chance you remember...</td>\n",
              "      <td>0</td>\n",
              "      <td>0</td>\n",
              "      <td>0</td>\n",
              "      <td>0</td>\n",
              "      <td>0</td>\n",
              "      <td>0</td>\n",
              "    </tr>\n",
              "  </tbody>\n",
              "</table>\n",
              "</div>\n",
              "    <div class=\"colab-df-buttons\">\n",
              "\n",
              "  <div class=\"colab-df-container\">\n",
              "    <button class=\"colab-df-convert\" onclick=\"convertToInteractive('df-87e45253-a5a4-4588-9180-85d954eea237')\"\n",
              "            title=\"Convert this dataframe to an interactive table.\"\n",
              "            style=\"display:none;\">\n",
              "\n",
              "  <svg xmlns=\"http://www.w3.org/2000/svg\" height=\"24px\" viewBox=\"0 -960 960 960\">\n",
              "    <path d=\"M120-120v-720h720v720H120Zm60-500h600v-160H180v160Zm220 220h160v-160H400v160Zm0 220h160v-160H400v160ZM180-400h160v-160H180v160Zm440 0h160v-160H620v160ZM180-180h160v-160H180v160Zm440 0h160v-160H620v160Z\"/>\n",
              "  </svg>\n",
              "    </button>\n",
              "\n",
              "  <style>\n",
              "    .colab-df-container {\n",
              "      display:flex;\n",
              "      gap: 12px;\n",
              "    }\n",
              "\n",
              "    .colab-df-convert {\n",
              "      background-color: #E8F0FE;\n",
              "      border: none;\n",
              "      border-radius: 50%;\n",
              "      cursor: pointer;\n",
              "      display: none;\n",
              "      fill: #1967D2;\n",
              "      height: 32px;\n",
              "      padding: 0 0 0 0;\n",
              "      width: 32px;\n",
              "    }\n",
              "\n",
              "    .colab-df-convert:hover {\n",
              "      background-color: #E2EBFA;\n",
              "      box-shadow: 0px 1px 2px rgba(60, 64, 67, 0.3), 0px 1px 3px 1px rgba(60, 64, 67, 0.15);\n",
              "      fill: #174EA6;\n",
              "    }\n",
              "\n",
              "    .colab-df-buttons div {\n",
              "      margin-bottom: 4px;\n",
              "    }\n",
              "\n",
              "    [theme=dark] .colab-df-convert {\n",
              "      background-color: #3B4455;\n",
              "      fill: #D2E3FC;\n",
              "    }\n",
              "\n",
              "    [theme=dark] .colab-df-convert:hover {\n",
              "      background-color: #434B5C;\n",
              "      box-shadow: 0px 1px 3px 1px rgba(0, 0, 0, 0.15);\n",
              "      filter: drop-shadow(0px 1px 2px rgba(0, 0, 0, 0.3));\n",
              "      fill: #FFFFFF;\n",
              "    }\n",
              "  </style>\n",
              "\n",
              "    <script>\n",
              "      const buttonEl =\n",
              "        document.querySelector('#df-87e45253-a5a4-4588-9180-85d954eea237 button.colab-df-convert');\n",
              "      buttonEl.style.display =\n",
              "        google.colab.kernel.accessAllowed ? 'block' : 'none';\n",
              "\n",
              "      async function convertToInteractive(key) {\n",
              "        const element = document.querySelector('#df-87e45253-a5a4-4588-9180-85d954eea237');\n",
              "        const dataTable =\n",
              "          await google.colab.kernel.invokeFunction('convertToInteractive',\n",
              "                                                    [key], {});\n",
              "        if (!dataTable) return;\n",
              "\n",
              "        const docLinkHtml = 'Like what you see? Visit the ' +\n",
              "          '<a target=\"_blank\" href=https://colab.research.google.com/notebooks/data_table.ipynb>data table notebook</a>'\n",
              "          + ' to learn more about interactive tables.';\n",
              "        element.innerHTML = '';\n",
              "        dataTable['output_type'] = 'display_data';\n",
              "        await google.colab.output.renderOutput(dataTable, element);\n",
              "        const docLink = document.createElement('div');\n",
              "        docLink.innerHTML = docLinkHtml;\n",
              "        element.appendChild(docLink);\n",
              "      }\n",
              "    </script>\n",
              "  </div>\n",
              "\n",
              "\n",
              "<div id=\"df-90bcc396-fe53-4401-a639-5977b953f95f\">\n",
              "  <button class=\"colab-df-quickchart\" onclick=\"quickchart('df-90bcc396-fe53-4401-a639-5977b953f95f')\"\n",
              "            title=\"Suggest charts\"\n",
              "            style=\"display:none;\">\n",
              "\n",
              "<svg xmlns=\"http://www.w3.org/2000/svg\" height=\"24px\"viewBox=\"0 0 24 24\"\n",
              "     width=\"24px\">\n",
              "    <g>\n",
              "        <path d=\"M19 3H5c-1.1 0-2 .9-2 2v14c0 1.1.9 2 2 2h14c1.1 0 2-.9 2-2V5c0-1.1-.9-2-2-2zM9 17H7v-7h2v7zm4 0h-2V7h2v10zm4 0h-2v-4h2v4z\"/>\n",
              "    </g>\n",
              "</svg>\n",
              "  </button>\n",
              "\n",
              "<style>\n",
              "  .colab-df-quickchart {\n",
              "      --bg-color: #E8F0FE;\n",
              "      --fill-color: #1967D2;\n",
              "      --hover-bg-color: #E2EBFA;\n",
              "      --hover-fill-color: #174EA6;\n",
              "      --disabled-fill-color: #AAA;\n",
              "      --disabled-bg-color: #DDD;\n",
              "  }\n",
              "\n",
              "  [theme=dark] .colab-df-quickchart {\n",
              "      --bg-color: #3B4455;\n",
              "      --fill-color: #D2E3FC;\n",
              "      --hover-bg-color: #434B5C;\n",
              "      --hover-fill-color: #FFFFFF;\n",
              "      --disabled-bg-color: #3B4455;\n",
              "      --disabled-fill-color: #666;\n",
              "  }\n",
              "\n",
              "  .colab-df-quickchart {\n",
              "    background-color: var(--bg-color);\n",
              "    border: none;\n",
              "    border-radius: 50%;\n",
              "    cursor: pointer;\n",
              "    display: none;\n",
              "    fill: var(--fill-color);\n",
              "    height: 32px;\n",
              "    padding: 0;\n",
              "    width: 32px;\n",
              "  }\n",
              "\n",
              "  .colab-df-quickchart:hover {\n",
              "    background-color: var(--hover-bg-color);\n",
              "    box-shadow: 0 1px 2px rgba(60, 64, 67, 0.3), 0 1px 3px 1px rgba(60, 64, 67, 0.15);\n",
              "    fill: var(--button-hover-fill-color);\n",
              "  }\n",
              "\n",
              "  .colab-df-quickchart-complete:disabled,\n",
              "  .colab-df-quickchart-complete:disabled:hover {\n",
              "    background-color: var(--disabled-bg-color);\n",
              "    fill: var(--disabled-fill-color);\n",
              "    box-shadow: none;\n",
              "  }\n",
              "\n",
              "  .colab-df-spinner {\n",
              "    border: 2px solid var(--fill-color);\n",
              "    border-color: transparent;\n",
              "    border-bottom-color: var(--fill-color);\n",
              "    animation:\n",
              "      spin 1s steps(1) infinite;\n",
              "  }\n",
              "\n",
              "  @keyframes spin {\n",
              "    0% {\n",
              "      border-color: transparent;\n",
              "      border-bottom-color: var(--fill-color);\n",
              "      border-left-color: var(--fill-color);\n",
              "    }\n",
              "    20% {\n",
              "      border-color: transparent;\n",
              "      border-left-color: var(--fill-color);\n",
              "      border-top-color: var(--fill-color);\n",
              "    }\n",
              "    30% {\n",
              "      border-color: transparent;\n",
              "      border-left-color: var(--fill-color);\n",
              "      border-top-color: var(--fill-color);\n",
              "      border-right-color: var(--fill-color);\n",
              "    }\n",
              "    40% {\n",
              "      border-color: transparent;\n",
              "      border-right-color: var(--fill-color);\n",
              "      border-top-color: var(--fill-color);\n",
              "    }\n",
              "    60% {\n",
              "      border-color: transparent;\n",
              "      border-right-color: var(--fill-color);\n",
              "    }\n",
              "    80% {\n",
              "      border-color: transparent;\n",
              "      border-right-color: var(--fill-color);\n",
              "      border-bottom-color: var(--fill-color);\n",
              "    }\n",
              "    90% {\n",
              "      border-color: transparent;\n",
              "      border-bottom-color: var(--fill-color);\n",
              "    }\n",
              "  }\n",
              "</style>\n",
              "\n",
              "  <script>\n",
              "    async function quickchart(key) {\n",
              "      const quickchartButtonEl =\n",
              "        document.querySelector('#' + key + ' button');\n",
              "      quickchartButtonEl.disabled = true;  // To prevent multiple clicks.\n",
              "      quickchartButtonEl.classList.add('colab-df-spinner');\n",
              "      try {\n",
              "        const charts = await google.colab.kernel.invokeFunction(\n",
              "            'suggestCharts', [key], {});\n",
              "      } catch (error) {\n",
              "        console.error('Error during call to suggestCharts:', error);\n",
              "      }\n",
              "      quickchartButtonEl.classList.remove('colab-df-spinner');\n",
              "      quickchartButtonEl.classList.add('colab-df-quickchart-complete');\n",
              "    }\n",
              "    (() => {\n",
              "      let quickchartButtonEl =\n",
              "        document.querySelector('#df-90bcc396-fe53-4401-a639-5977b953f95f button');\n",
              "      quickchartButtonEl.style.display =\n",
              "        google.colab.kernel.accessAllowed ? 'block' : 'none';\n",
              "    })();\n",
              "  </script>\n",
              "</div>\n",
              "\n",
              "    </div>\n",
              "  </div>\n"
            ],
            "text/plain": [
              "                 id                                       comment_text  toxic  \\\n",
              "0  0000997932d777bf  Explanation\\nWhy the edits made under my usern...      0   \n",
              "1  000103f0d9cfb60f  D'aww! He matches this background colour I'm s...      0   \n",
              "2  000113f07ec002fd  Hey man, I'm really not trying to edit war. It...      0   \n",
              "3  0001b41b1c6bb37e  \"\\nMore\\nI can't make any real suggestions on ...      0   \n",
              "4  0001d958c54c6e35  You, sir, are my hero. Any chance you remember...      0   \n",
              "\n",
              "   severe_toxic  obscene  threat  insult  identity_hate  \n",
              "0             0        0       0       0              0  \n",
              "1             0        0       0       0              0  \n",
              "2             0        0       0       0              0  \n",
              "3             0        0       0       0              0  \n",
              "4             0        0       0       0              0  "
            ]
          },
          "execution_count": 4,
          "metadata": {},
          "output_type": "execute_result"
        }
      ],
      "source": [
        "data = pd.read_csv('/content/drive/MyDrive/data_classification_commentaires_toxiques/train.csv')\n",
        "data.head()"
      ]
    },
    {
      "cell_type": "markdown",
      "metadata": {
        "id": "-kUWzBzISpsK"
      },
      "source": [
        "# Etude du jeu de données"
      ]
    },
    {
      "cell_type": "code",
      "execution_count": 5,
      "metadata": {
        "colab": {
          "base_uri": "https://localhost:8080/",
          "height": 1000
        },
        "id": "CAexGL7jS-VF",
        "outputId": "739810c6-5d9e-459d-9d65-862cea7fc1d0"
      },
      "outputs": [
        {
          "name": "stdout",
          "output_type": "stream",
          "text": [
            "Dataset Shape: (159571, 8)\n",
            "Columns: Index(['id', 'comment_text', 'toxic', 'severe_toxic', 'obscene', 'threat',\n",
            "       'insult', 'identity_hate'],\n",
            "      dtype='object')\n",
            "Sample Data:\n",
            "                  id                                       comment_text  toxic  \\\n",
            "0  0000997932d777bf  Explanation\\nWhy the edits made under my usern...      0   \n",
            "1  000103f0d9cfb60f  D'aww! He matches this background colour I'm s...      0   \n",
            "2  000113f07ec002fd  Hey man, I'm really not trying to edit war. It...      0   \n",
            "3  0001b41b1c6bb37e  \"\\nMore\\nI can't make any real suggestions on ...      0   \n",
            "4  0001d958c54c6e35  You, sir, are my hero. Any chance you remember...      0   \n",
            "\n",
            "   severe_toxic  obscene  threat  insult  identity_hate  \n",
            "0             0        0       0       0              0  \n",
            "1             0        0       0       0              0  \n",
            "2             0        0       0       0              0  \n",
            "3             0        0       0       0              0  \n",
            "4             0        0       0       0              0  \n",
            "Missing Values:\n",
            " id               0\n",
            "comment_text     0\n",
            "toxic            0\n",
            "severe_toxic     0\n",
            "obscene          0\n",
            "threat           0\n",
            "insult           0\n",
            "identity_hate    0\n",
            "dtype: int64\n",
            "Label Distribution:\n",
            " toxic            15294\n",
            "severe_toxic      1595\n",
            "obscene           8449\n",
            "threat             478\n",
            "insult            7877\n",
            "identity_hate     1405\n",
            "dtype: int64\n"
          ]
        },
        {
          "data": {
            "image/png": "[encoded data removed]",
            "text/plain": [
              "<Figure size 1000x600 with 1 Axes>"
            ]
          },
          "metadata": {},
          "output_type": "display_data"
        },
        {
          "name": "stdout",
          "output_type": "stream",
          "text": [
            "Comment Length Stats:\n",
            " count    159571.000000\n",
            "mean        394.073221\n",
            "std         590.720282\n",
            "min           6.000000\n",
            "25%          96.000000\n",
            "50%         205.000000\n",
            "75%         435.000000\n",
            "max        5000.000000\n",
            "Name: comment_length, dtype: float64\n"
          ]
        },
        {
          "data": {
            "image/png": "[encoded data removed]",
            "text/plain": [
              "<Figure size 640x480 with 1 Axes>"
            ]
          },
          "metadata": {},
          "output_type": "display_data"
        }
      ],
      "source": [
        "# Your Code\n",
        "# Etude du jeu de données\n",
        "print(\"Dataset Shape:\", data.shape)\n",
        "print(\"Columns:\", data.columns)\n",
        "print(\"Sample Data:\\n\", data.head())\n",
        "\n",
        "# Check for missing values\n",
        "print(\"Missing Values:\\n\", data.isnull().sum())\n",
        "\n",
        "# Label distribution (assuming multi-label columns start from index 2)\n",
        "labels = data.columns[2:]\n",
        "label_counts = data[labels].sum()\n",
        "print(\"Label Distribution:\\n\", label_counts)\n",
        "\n",
        "# Visualize label distribution\n",
        "plt.figure(figsize=(10, 6))\n",
        "label_counts.plot(kind='bar')\n",
        "plt.title(\"Distribution of Toxic Labels\")\n",
        "plt.xlabel(\"Label\")\n",
        "plt.ylabel(\"Count\")\n",
        "plt.xticks(rotation=45)\n",
        "plt.show()\n",
        "\n",
        "# Comment length analysis\n",
        "data['comment_length'] = data['comment_text'].apply(len)\n",
        "print(\"Comment Length Stats:\\n\", data['comment_length'].describe())\n",
        "plt.hist(data['comment_length'], bins=50, range=(0, 500))\n",
        "plt.title(\"Distribution of Comment Lengths\")\n",
        "plt.xlabel(\"Length\")\n",
        "plt.ylabel(\"Frequency\")\n",
        "plt.show()"
      ]
    },
    {
      "cell_type": "markdown",
      "metadata": {
        "id": "YIzpSrAjSsAM"
      },
      "source": [
        "# Préparation des données"
      ]
    },
    {
      "cell_type": "code",
      "execution_count": 6,
      "metadata": {
        "colab": {
          "base_uri": "https://localhost:8080/"
        },
        "id": "1WMk85t8S_zX",
        "outputId": "aedea56e-d9d3-4536-9d44-0a4bc489dd0d"
      },
      "outputs": [
        {
          "name": "stdout",
          "output_type": "stream",
          "text": [
            "X_train Shape: (12765, 100)\n",
            "y_train Shape: (12765, 6)\n"
          ]
        }
      ],
      "source": [
        "# Your Code\n",
        "# Préparation des données\n",
        "from sklearn.model_selection import train_test_split\n",
        "from tensorflow.keras.preprocessing.text import Tokenizer\n",
        "from tensorflow.keras.preprocessing.sequence import pad_sequences\n",
        "import re\n",
        "\n",
        "# Use a subset for faster iteration (e.g., 10% of data)\n",
        "data_subset = data.sample(frac=0.1, random_state=42)\n",
        "\n",
        "# Basic text cleaning function\n",
        "def clean_text(text):\n",
        "    text = text.lower()  # Lowercase\n",
        "    text = re.sub(r'[^\\w\\s]', '', text)  # Remove punctuation\n",
        "    text = re.sub(r'\\s+', ' ', text).strip()  # Normalize whitespace\n",
        "    return text\n",
        "\n",
        "data_subset['comment_text'] = data_subset['comment_text'].apply(clean_text)\n",
        "\n",
        "# Tokenization\n",
        "MAX_WORDS = 5000  # Vocabulary size\n",
        "MAX_LEN = 100     # Max sequence length\n",
        "tokenizer = Tokenizer(num_words=MAX_WORDS)\n",
        "tokenizer.fit_on_texts(data_subset['comment_text'])\n",
        "sequences = tokenizer.texts_to_sequences(data_subset['comment_text'])\n",
        "X = pad_sequences(sequences, maxlen=MAX_LEN)\n",
        "\n",
        "# Prepare labels (assuming multi-label)\n",
        "y = data_subset[labels].values\n",
        "\n",
        "# Train-test split\n",
        "X_train, X_test, y_train, y_test = train_test_split(X, y, test_size=0.2, random_state=42)\n",
        "\n",
        "print(\"X_train Shape:\", X_train.shape)\n",
        "print(\"y_train Shape:\", y_train.shape)"
      ]
    },
    {
      "cell_type": "markdown",
      "metadata": {
        "id": "LxNIQgESTCmE"
      },
      "source": [
        "# Entraînement du modèle baseline"
      ]
    },
    {
      "cell_type": "code",
      "execution_count": 14,
      "metadata": {
        "colab": {
          "base_uri": "https://localhost:8080/"
        },
        "id": "YgkPpzIzSQUi",
        "outputId": "dcec006f-6de7-4679-971c-0811d0605439"
      },
      "outputs": [
        {
          "name": "stdout",
          "output_type": "stream",
          "text": [
            "X_train_tfidf Shape: (12765, 5000)\n",
            "y_train Shape: (12765, 6)\n",
            "Sample of y_train:\n",
            " [[0 0 0 0 0 0]\n",
            " [0 0 0 0 0 0]\n",
            " [0 0 0 0 0 0]\n",
            " [0 0 0 0 0 0]\n",
            " [0 0 0 0 0 0]]\n",
            "\n",
            "Test du modèle baseline sur des exemples :\n",
            "\n",
            "Comment: You’re a disgusting idiot!\n",
            "Prédictions (0/1): {'toxic': 1, 'severe_toxic': 0, 'obscene': 1, 'threat': 0, 'insult': 1, 'identity_hate': 0}\n",
            "Probabilités: {'toxic': 0.961081257391046, 'severe_toxic': 0.022799774602435898, 'obscene': 0.5922669664890221, 'threat': 0.004566872220506237, 'insult': 0.8846498742511492, 'identity_hate': 0.019674049179359703}\n",
            "\n",
            "Comment: Great job, keep it up!\n",
            "Prédictions (0/1): {'toxic': 0, 'severe_toxic': 0, 'obscene': 0, 'threat': 0, 'insult': 0, 'identity_hate': 0}\n",
            "Probabilités: {'toxic': 0.08032976228819957, 'severe_toxic': 0.01009567537467749, 'obscene': 0.03153510803113403, 'threat': 0.0019796289750069764, 'insult': 0.04361456223950117, 'identity_hate': 0.013496778382502416}\n",
            "\n",
            "Comment: I could kill you for this… just kidding!\n",
            "Prédictions (0/1): {'toxic': 0, 'severe_toxic': 0, 'obscene': 0, 'threat': 0, 'insult': 0, 'identity_hate': 0}\n",
            "Probabilités: {'toxic': 0.1628676401595489, 'severe_toxic': 0.013691847191973656, 'obscene': 0.08053799698634369, 'threat': 0.007980264764703284, 'insult': 0.05777035774172738, 'identity_hate': 0.009384708853700284}\n",
            "\n",
            "Évaluation du modèle baseline (seuil fixe 0.5):\n",
            "F1 Score (macro): 0.3021\n",
            "F1 Score (micro): 0.4915\n",
            "ROC-AUC Score: 0.9476\n",
            "\n",
            "Seuils optimisés par étiquette: {'toxic': 0.20000000000000004, 'severe_toxic': 0.1, 'obscene': 0.15000000000000002, 'threat': 0.5, 'insult': 0.20000000000000004, 'identity_hate': 0.1}\n",
            "\n",
            "Évaluation avec seuils optimisés:\n",
            "F1 Score (macro): 0.4597\n",
            "F1 Score (micro): 0.6677\n"
          ]
        }
      ],
      "source": [
        "# Your Code\n",
        "# Utilisation de 10% des données\n",
        "data_subset = data.sample(frac=0.1, random_state=42)\n",
        "\n",
        "# Définir les étiquettes correctes\n",
        "labels = ['toxic', 'severe_toxic', 'obscene', 'threat', 'insult', 'identity_hate']\n",
        "\n",
        "# Vectorisation TF-IDF\n",
        "tfidf = TfidfVectorizer(max_features=5000)\n",
        "X_tfidf = tfidf.fit_transform(data_subset['comment_text'])\n",
        "y = data_subset[labels].values  # Étiquettes binaires (6 colonnes)\n",
        "\n",
        "# Séparation train/test\n",
        "X_train_tfidf, X_test_tfidf, y_train, y_test = train_test_split(X_tfidf, y, test_size=0.2, random_state=42)\n",
        "\n",
        "# Vérification des données\n",
        "print(\"X_train_tfidf Shape:\", X_train_tfidf.shape)\n",
        "print(\"y_train Shape:\", y_train.shape)\n",
        "print(\"Sample of y_train:\\n\", y_train[:5])\n",
        "\n",
        "# Modèle baseline\n",
        "baseline_model = OneVsRestClassifier(LogisticRegression(max_iter=1000))\n",
        "baseline_model.fit(X_train_tfidf, y_train)\n",
        "\n",
        "# Test du modèle sur des exemples\n",
        "test_comments = [\n",
        "    \"You’re a disgusting idiot!\",\n",
        "    \"Great job, keep it up!\",\n",
        "    \"I could kill you for this… just kidding!\"\n",
        "]\n",
        "print(\"\\nTest du modèle baseline sur des exemples :\")\n",
        "for comment in test_comments:\n",
        "    X_test_comment = tfidf.transform([comment])\n",
        "    pred = baseline_model.predict(X_test_comment)[0]\n",
        "    pred_proba = baseline_model.predict_proba(X_test_comment)[0]\n",
        "    print(f\"\\nComment: {comment}\")\n",
        "    print(\"Prédictions (0/1):\", dict(zip(labels, pred)))\n",
        "    print(\"Probabilités:\", dict(zip(labels, pred_proba)))\n",
        "\n",
        "# Évaluation avec seuil fixe (0.5)\n",
        "y_pred = baseline_model.predict(X_test_tfidf)\n",
        "y_pred_proba = baseline_model.predict_proba(X_test_tfidf)\n",
        "f1_macro_baseline = f1_score(y_test, y_pred, average='macro')\n",
        "f1_micro_baseline = f1_score(y_test, y_pred, average='micro')\n",
        "roc_auc_baseline = roc_auc_score(y_test, y_pred_proba)\n",
        "print(\"\\nÉvaluation du modèle baseline (seuil fixe 0.5):\")\n",
        "print(f\"F1 Score (macro): {f1_macro_baseline:.4f}\")\n",
        "print(f\"F1 Score (micro): {f1_micro_baseline:.4f}\")\n",
        "print(f\"ROC-AUC Score: {roc_auc_baseline:.4f}\")\n",
        "\n",
        "# Optimisation des seuils\n",
        "def optimize_thresholds(y_true, y_pred_proba, labels):\n",
        "    best_thresholds = []\n",
        "    for i in range(len(labels)):\n",
        "        thresholds = np.arange(0.1, 0.9, 0.05)\n",
        "        best_f1 = 0\n",
        "        best_thresh = 0.5\n",
        "        for thresh in thresholds:\n",
        "            y_pred = (y_pred_proba[:, i] > thresh).astype(int)\n",
        "            f1 = f1_score(y_true[:, i], y_pred)\n",
        "            if f1 > best_f1:\n",
        "                best_f1 = f1\n",
        "                best_thresh = thresh\n",
        "        best_thresholds.append(best_thresh)\n",
        "    return best_thresholds\n",
        "\n",
        "thresholds_baseline = optimize_thresholds(y_test, y_pred_proba, labels)\n",
        "print(\"\\nSeuils optimisés par étiquette:\", dict(zip(labels, thresholds_baseline)))\n",
        "\n",
        "# Évaluation avec seuils optimisés\n",
        "y_pred_adjusted = np.zeros_like(y_pred_proba)\n",
        "for i, thresh in enumerate(thresholds_baseline):\n",
        "    y_pred_adjusted[:, i] = (y_pred_proba[:, i] > thresh).astype(int)\n",
        "f1_macro_opt_baseline = f1_score(y_test, y_pred_adjusted, average='macro')\n",
        "f1_micro_opt_baseline = f1_score(y_test, y_pred_adjusted, average='micro')\n",
        "print(\"\\nÉvaluation avec seuils optimisés:\")\n",
        "print(f\"F1 Score (macro): {f1_macro_opt_baseline:.4f}\")\n",
        "print(f\"F1 Score (micro): {f1_micro_opt_baseline:.4f}\")"
      ]
    }
  ],
  "metadata": {
    "accelerator": "GPU",
    "colab": {
      "gpuType": "T4",
      "provenance": []
    },
    "kernelspec": {
      "display_name": "Python 3",
      "name": "python3"
    },
    "language_info": {
      "name": "python"
    }
  },
  "nbformat": 4,
  "nbformat_minor": 0
}
