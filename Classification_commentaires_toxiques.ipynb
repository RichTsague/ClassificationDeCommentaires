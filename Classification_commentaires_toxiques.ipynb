{
 "cells": [
  {
   "cell_type": "markdown",
   "id": "9feaa0f1",
   "metadata": {},
   "source": [
    "## Importation des bibliothèques"
   ]
  },
  {
   "cell_type": "code",
   "execution_count": null,
   "id": "79601376",
   "metadata": {},
   "outputs": [],
   "source": [
    "\n",
    "from sklearn.feature_extraction.text import TfidfVectorizer\n",
    "from sklearn.linear_model import LogisticRegression\n",
    "from sklearn.multiclass import OneVsRestClassifier\n",
    "from sklearn.model_selection import train_test_split\n",
    "from sklearn.metrics import f1_score, roc_auc_score\n",
    "import numpy as np\n"
   ]
  },
  {
   "cell_type": "markdown",
   "id": "e6341573",
   "metadata": {},
   "source": [
    "##  Préparation des données"
   ]
  },
  {
   "cell_type": "code",
   "execution_count": null,
   "id": "3c8b9a12",
   "metadata": {},
   "outputs": [],
   "source": [
    "\n",
    "tfidf = TfidfVectorizer(max_features=5000)  # Limite à 5000 mots pour gérer la mémoire\n",
    "X_tfidf = tfidf.fit_transform(data['comment_text'])  # Utilisation de toutes les données\n",
    "y = data[data.columns[2:]].values  # Étiquettes binaires (6 colonnes)\n",
    "\n",
    "# Séparation train/test\n",
    "X_train_tfidf, X_test_tfidf, y_train, y_test = train_test_split(X_tfidf, y, test_size=0.2, random_state=42)\n",
    "\n",
    "# Vérification des données\n",
    "print(\"X_train_tfidf Shape:\", X_train_tfidf.shape)\n",
    "print(\"y_train Shape:\", y_train.shape)\n",
    "print(\"Sample of y_train:\\n\", y_train[:5])\n"
   ]
  },
  {
   "cell_type": "markdown",
   "id": "9b85f68c",
   "metadata": {},
   "source": [
    "## Entraînement du modèle baseline"
   ]
  },
  {
   "cell_type": "code",
   "execution_count": null,
   "id": "86a86de1",
   "metadata": {},
   "outputs": [],
   "source": [
    "\n",
    "baseline_model = OneVsRestClassifier(LogisticRegression(max_iter=1000))\n",
    "baseline_model.fit(X_train_tfidf, y_train)\n"
   ]
  },
  {
   "cell_type": "markdown",
   "id": "ad2f0494",
   "metadata": {},
   "source": [
    "##  Test du modèle sur des exemples"
   ]
  },
  {
   "cell_type": "code",
   "execution_count": null,
   "id": "884c83e9",
   "metadata": {},
   "outputs": [],
   "source": [
    "\n",
    "test_comments = [\n",
    "    \"You’re a disgusting idiot!\",\n",
    "    \"Great job, keep it up!\",\n",
    "    \"I could kill you for this… just kidding!\"\n",
    "]\n",
    "print(\"\\nTest du modèle baseline sur des exemples :\")\n",
    "for comment in test_comments:\n",
    "    X_test_comment = tfidf.transform([comment])\n",
    "    pred = baseline_model.predict(X_test_comment)[0]\n",
    "    pred_proba = baseline_model.predict_proba(X_test_comment)[0]\n",
    "    print(f\"\\nComment: {comment}\")\n",
    "    print(\"Prédictions (0/1):\", dict(zip(data.columns[2:], pred)))\n",
    "    print(\"Probabilités:\", dict(zip(data.columns[2:], pred_proba)))\n"
   ]
  },
  {
   "cell_type": "markdown",
   "id": "17f7f116",
   "metadata": {},
   "source": [
    "##  Évaluation avec seuil fixe"
   ]
  },
  {
   "cell_type": "code",
   "execution_count": null,
   "id": "338f1edf",
   "metadata": {},
   "outputs": [],
   "source": [
    "\n",
    "y_pred = baseline_model.predict(X_test_tfidf)\n",
    "y_pred_proba = baseline_model.predict_proba(X_test_tfidf)\n",
    "f1_macro_baseline = f1_score(y_test, y_pred, average='macro')\n",
    "f1_micro_baseline = f1_score(y_test, y_pred, average='micro')\n",
    "roc_auc_baseline = roc_auc_score(y_test, y_pred_proba)\n",
    "print(\"\\nÉvaluation du modèle baseline (seuil fixe 0.5):\")\n",
    "print(f\"F1 Score (macro): {f1_macro_baseline:.4f}\")\n",
    "print(f\"F1 Score (micro): {f1_micro_baseline:.4f}\")\n",
    "print(f\"ROC-AUC Score: {roc_auc_baseline:.4f}\")\n"
   ]
  },
  {
   "cell_type": "markdown",
   "id": "6bba1cc9",
   "metadata": {},
   "source": [
    "##  Optimisation des seuils pour F1-score macro"
   ]
  },
  {
   "cell_type": "code",
   "execution_count": null,
   "id": "0b9d127e",
   "metadata": {},
   "outputs": [],
   "source": [
    "\n",
    "def optimize_thresholds(y_true, y_pred_proba, labels):\n",
    "    best_thresholds = []\n",
    "    for i in range(len(labels)):\n",
    "        thresholds = np.arange(0.1, 0.9, 0.05)\n",
    "        best_f1 = 0\n",
    "        best_thresh = 0.5\n",
    "        for thresh in thresholds:\n",
    "            y_pred = (y_pred_proba[:, i] > thresh).astype(int)\n",
    "            f1 = f1_score(y_true[:, i], y_pred)\n",
    "            if f1 > best_f1:\n",
    "                best_f1 = f1\n",
    "                best_thresh = thresh\n",
    "        best_thresholds.append(best_thresh)\n",
    "    return best_thresholds\n",
    "\n",
    "labels = data.columns[2:].tolist()\n",
    "thresholds_baseline = optimize_thresholds(y_test, y_pred_proba, labels)\n",
    "print(\"\\nSeuils optimisés par étiquette:\", dict(zip(labels, thresholds_baseline)))\n"
   ]
  },
  {
   "cell_type": "markdown",
   "id": "2b7d7b0f",
   "metadata": {},
   "source": [
    "##  Évaluation avec seuils optimisés"
   ]
  },
  {
   "cell_type": "code",
   "execution_count": null,
   "id": "eb0fb0a1",
   "metadata": {},
   "outputs": [],
   "source": [
    "\n",
    "y_pred_adjusted = np.zeros_like(y_pred_proba)\n",
    "for i, thresh in enumerate(thresholds_baseline):\n",
    "    y_pred_adjusted[:, i] = (y_pred_proba[:, i] > thresh).astype(int)\n",
    "f1_macro_opt_baseline = f1_score(y_test, y_pred_adjusted, average='macro')\n",
    "f1_micro_opt_baseline = f1_score(y_test, y_pred_adjusted, average='micro')\n",
    "print(\"\\nÉvaluation avec seuils optimisés:\")\n",
    "print(f\"F1 Score (macro): {f1_macro_opt_baseline:.4f}\")\n",
    "print(f\"F1 Score (micro): {f1_micro_opt_baseline:.4f}\")\n"
   ]
  }
 ],
 "metadata": {
  "language_info": {
   "name": "python"
  }
 },
 "nbformat": 4,
 "nbformat_minor": 5
}
